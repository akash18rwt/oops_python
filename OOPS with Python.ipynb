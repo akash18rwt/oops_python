{
 "cells": [
  {
   "cell_type": "markdown",
   "metadata": {},
   "source": [
    "# Object Oriented Programming"
   ]
  },
  {
   "cell_type": "markdown",
   "metadata": {},
   "source": [
    "## Creating a Class"
   ]
  },
  {
   "cell_type": "code",
   "execution_count": 152,
   "metadata": {},
   "outputs": [],
   "source": [
    "class Phone:\n",
    "    \n",
    "    def make_call(self):\n",
    "        print(\"Calling...\")\n",
    "        \n",
    "    def play_game(self):\n",
    "        print(\"Playing Games!\")   "
   ]
  },
  {
   "cell_type": "code",
   "execution_count": 153,
   "metadata": {},
   "outputs": [],
   "source": [
    "phone = Phone()"
   ]
  },
  {
   "cell_type": "code",
   "execution_count": 154,
   "metadata": {},
   "outputs": [
    {
     "name": "stdout",
     "output_type": "stream",
     "text": [
      "Calling...\n"
     ]
    }
   ],
   "source": [
    "phone.make_call()"
   ]
  },
  {
   "cell_type": "code",
   "execution_count": 155,
   "metadata": {},
   "outputs": [
    {
     "name": "stdout",
     "output_type": "stream",
     "text": [
      "Playing Games!\n"
     ]
    }
   ],
   "source": [
    "phone.play_game()"
   ]
  },
  {
   "cell_type": "markdown",
   "metadata": {},
   "source": [
    "* Data and functions are called attributes and methods when they are ASSOCIATED with a Class.\n",
    "* Class is a blueprint for creating instances.\n",
    "* Each unique employee that we create from our class is an instance of our class. "
   ]
  },
  {
   "cell_type": "code",
   "execution_count": 156,
   "metadata": {},
   "outputs": [
    {
     "name": "stdout",
     "output_type": "stream",
     "text": [
      "<__main__.Employee object at 0x0000018002D73A48>\n",
      "<__main__.Employee object at 0x0000018002ED4DC8>\n"
     ]
    }
   ],
   "source": [
    "class Employee:\n",
    "    pass\n",
    "\n",
    "emp_1 = Employee()\n",
    "emp_2 = Employee()\n",
    "\n",
    "print(emp_1)\n",
    "print(emp_2)"
   ]
  },
  {
   "cell_type": "markdown",
   "metadata": {},
   "source": [
    "* Both emp_1 & emp_2 are different instances of our class as we can see from the different memory location.\n",
    "* Instance variables contain data that is unique to each instance."
   ]
  },
  {
   "cell_type": "code",
   "execution_count": 157,
   "metadata": {},
   "outputs": [
    {
     "name": "stdout",
     "output_type": "stream",
     "text": [
      "akash.rawat@company.com\n",
      "test.user@company.com\n"
     ]
    }
   ],
   "source": [
    "# Manually creating instance varibale\n",
    "emp_1.first = 'akash'\n",
    "emp_1.last = 'rawat'\n",
    "emp_1.email = 'akash.rawat@company.com'\n",
    "emp_1.pay = 50000\n",
    "\n",
    "emp_2.first = 'test'\n",
    "emp_2.last = 'user'\n",
    "emp_2.email = 'test.user@company.com'\n",
    "emp_2.pay = 60000\n",
    "\n",
    "print(emp_1.email)\n",
    "print(emp_2.email)"
   ]
  },
  {
   "cell_type": "markdown",
   "metadata": {},
   "source": [
    "* To initialize variable for each instance repetitively, we use init method instead of doing it manually. It is an initialize method and also called as constructor.\n",
    "* When we createmethods inside calss, they receive instance as first argument automatically by convention. The convention is by calling self."
   ]
  },
  {
   "cell_type": "code",
   "execution_count": 158,
   "metadata": {},
   "outputs": [
    {
     "name": "stdout",
     "output_type": "stream",
     "text": [
      "akash.rawat@company.com\n",
      "ankit.rawat@company.com\n"
     ]
    }
   ],
   "source": [
    "class Employee:\n",
    "    '''\n",
    "    self.first1 = first2; Here first1 & first2 doesn't have to be the same.\n",
    "    But it is a good practice that these should be same for less number of variable.\n",
    "    '''\n",
    "    \n",
    "    def __init__(self, first, last, pay):\n",
    "        self.first = first # similar to \"emp_1.first = 'akash'\"\n",
    "        self.last = last\n",
    "        self.pay = pay\n",
    "        self.email = first +'.'+ last + '@company.com'\n",
    "        \n",
    "'''\n",
    "While creating the instance we've to pass the variable that are required in init method.\n",
    "self is being provided by default. Hence we don't have to pass self while instantiating.\n",
    "Just pass the variable other than self.\n",
    "'''\n",
    "emp_1 = Employee('akash','rawat',50000)\n",
    "'''\n",
    "When above line will run, init method will run automatically and emp_1 will be passed as self \n",
    "and set all other attributes of or class (first, last, payo).\n",
    "Ex: emp_1.first='akash'\n",
    "'''\n",
    "emp_2 = Employee('ankit', 'rawat', 60000)\n",
    "\n",
    "print(emp_1.email)\n",
    "print(emp_2.email)"
   ]
  },
  {
   "cell_type": "markdown",
   "metadata": {},
   "source": [
    "We want to perform some actions, for that we can add some methods to our class. We can create method in our class that allows to put this functionality in one place "
   ]
  },
  {
   "cell_type": "code",
   "execution_count": 159,
   "metadata": {},
   "outputs": [
    {
     "name": "stdout",
     "output_type": "stream",
     "text": [
      "<bound method Employee.fullname of <__main__.Employee object at 0x0000018002B61288>>\n",
      "akash rawat\n"
     ]
    }
   ],
   "source": [
    "class Employee:\n",
    "\n",
    "    def __init__(self, first, last, pay):\n",
    "        self.first = first \n",
    "        self.last = last\n",
    "        self.pay = pay\n",
    "        self.email = first +'.'+ last + '@company.com'\n",
    "        \n",
    "    def fullname(self):\n",
    "        # here self allows this method to work with all instances of our class\n",
    "        return '{} {}'.format(self.first, self.last)\n",
    "    \n",
    "emp_1 = Employee('akash', 'rawat', 50000)\n",
    "\n",
    "print(emp_1.fullname)\n",
    "print(emp_1.fullname())"
   ]
  },
  {
   "cell_type": "markdown",
   "metadata": {},
   "source": [
    "### What happens when we forget to mention self while creating a function within our class?"
   ]
  },
  {
   "cell_type": "code",
   "execution_count": 160,
   "metadata": {},
   "outputs": [
    {
     "name": "stdout",
     "output_type": "stream",
     "text": [
      "akash.rawat@company.com\n"
     ]
    }
   ],
   "source": [
    "class Employee:\n",
    "\n",
    "    def __init__(self, first, last, pay):\n",
    "        self.first = first \n",
    "        self.last = last\n",
    "        self.pay = pay\n",
    "        self.email = first +'.'+ last + '@company.com'\n",
    "        \n",
    "    def fullname():\n",
    "        # here self allows this method to work with all instances of our class\n",
    "        return '{} {}'.format(self.first, self.last)\n",
    "    \n",
    "emp_1 = Employee('akash', 'rawat', 50000)\n",
    "\n",
    "print(emp_1.email)\n",
    "#print(emp_1.fullname)\n",
    "#print(emp_1.fullname())"
   ]
  },
  {
   "cell_type": "markdown",
   "metadata": {},
   "source": [
    "This runs without any error even when we forgot to metion self in our function.\n",
    "As we didn't use that function that is why it didn't throw any error."
   ]
  },
  {
   "cell_type": "code",
   "execution_count": 162,
   "metadata": {},
   "outputs": [
    {
     "name": "stdout",
     "output_type": "stream",
     "text": [
      "<bound method Employee.fullname of <__main__.Employee object at 0x00000180029F4BC8>>\n"
     ]
    },
    {
     "ename": "TypeError",
     "evalue": "fullname() takes 0 positional arguments but 1 was given",
     "output_type": "error",
     "traceback": [
      "\u001b[1;31m---------------------------------------------------------------------------\u001b[0m",
      "\u001b[1;31mTypeError\u001b[0m                                 Traceback (most recent call last)",
      "\u001b[1;32m<ipython-input-162-8ddca8a472f8>\u001b[0m in \u001b[0;36m<module>\u001b[1;34m\u001b[0m\n\u001b[0;32m      1\u001b[0m \u001b[0mprint\u001b[0m\u001b[1;33m(\u001b[0m\u001b[0memp_1\u001b[0m\u001b[1;33m.\u001b[0m\u001b[0mfullname\u001b[0m\u001b[1;33m)\u001b[0m\u001b[1;33m\u001b[0m\u001b[1;33m\u001b[0m\u001b[0m\n\u001b[1;32m----> 2\u001b[1;33m \u001b[0mprint\u001b[0m\u001b[1;33m(\u001b[0m\u001b[0memp_1\u001b[0m\u001b[1;33m.\u001b[0m\u001b[0mfullname\u001b[0m\u001b[1;33m(\u001b[0m\u001b[1;33m)\u001b[0m\u001b[1;33m)\u001b[0m\u001b[1;33m\u001b[0m\u001b[1;33m\u001b[0m\u001b[0m\n\u001b[0m",
      "\u001b[1;31mTypeError\u001b[0m: fullname() takes 0 positional arguments but 1 was given"
     ]
    }
   ],
   "source": [
    "print(emp_1.fullname)\n",
    "print(emp_1.fullname())"
   ]
  },
  {
   "cell_type": "markdown",
   "metadata": {},
   "source": [
    "## Explain: TypeError: fullname() takes 0 positional arguments but 1 was given\n",
    "\n",
    "As we didn't pass any argument but instance 'emp_1' is being passed to the method automatically. So we have to expect instance in our method. Hence we've to pass self in our methods."
   ]
  },
  {
   "cell_type": "markdown",
   "metadata": {},
   "source": [
    "* We can also use methods with our Classnames.\n",
    "* We also have to manually pass the instance as an argument."
   ]
  },
  {
   "cell_type": "markdown",
   "metadata": {},
   "source": [
    "# Both lines of code does the same work.\n",
    "\n",
    "### Command 1: emp_1.fullname() : we don't have to pass self here\n",
    "### Command 2: Employee.fullname(emp_1) \n",
    "\n",
    "We are calling method on our class, so we have to pass the instace on which we want to call or method. Otherwise the class won't know on which instance we want to call our method.\n",
    "\n",
    "### In the backgroud actually command 1 is being transformed to command 2, when we execute it. emp_1 is passed and replace with self. That is why we pass self."
   ]
  },
  {
   "cell_type": "markdown",
   "metadata": {},
   "source": [
    "* Class variables are variables which are shared among all instances of our class.\n",
    "* Instance variable can be unique for each instance like: name, email and pay.\n",
    "* Class variables should be same for each instance like annual raise cause that will be common for all employees."
   ]
  },
  {
   "cell_type": "code",
   "execution_count": null,
   "metadata": {},
   "outputs": [],
   "source": [
    "class Employee:\n",
    "\n",
    "    def __init__(self, first, last, pay):\n",
    "        self.first = first \n",
    "        self.last = last\n",
    "        self.pay = pay\n",
    "        self.email = first +'.'+ last + '@company.com'\n",
    "        \n",
    "    def fullname(self):\n",
    "        return '{} {}'.format(self.first, self.last)\n",
    "    \n",
    "    def apply_raise(self):\n",
    "        self.pay = int(self.pay * 1.04)\n",
    "    \n",
    "emp_1 = Employee('akash', 'rawat', 50000)\n",
    "emp_2 = Employee('ankit', 'rawat', 60000)\n",
    "\n",
    "print(emp_1.pay)\n",
    "emp_1.apply_raise()\n",
    "print(emp_1.pay)"
   ]
  },
  {
   "cell_type": "markdown",
   "metadata": {},
   "source": [
    "Though it is working fine but couple of things can be improved.\n",
    "* We should be able to access the raise amount as it is common to all instances.\n",
    "* We can not also update directly the raise amount as it is not a variable and it might be at multiple places to update.\n",
    "\n",
    "* We can create a class variable sothat it'll be available to all and easy to update."
   ]
  },
  {
   "cell_type": "code",
   "execution_count": 163,
   "metadata": {},
   "outputs": [
    {
     "name": "stdout",
     "output_type": "stream",
     "text": [
      "50000\n"
     ]
    },
    {
     "ename": "NameError",
     "evalue": "name 'raise_amount' is not defined",
     "output_type": "error",
     "traceback": [
      "\u001b[1;31m---------------------------------------------------------------------------\u001b[0m",
      "\u001b[1;31mNameError\u001b[0m                                 Traceback (most recent call last)",
      "\u001b[1;32m<ipython-input-163-f13fd89f61ca>\u001b[0m in \u001b[0;36m<module>\u001b[1;34m\u001b[0m\n\u001b[0;32m     20\u001b[0m \u001b[1;33m\u001b[0m\u001b[0m\n\u001b[0;32m     21\u001b[0m \u001b[0mprint\u001b[0m\u001b[1;33m(\u001b[0m\u001b[0memp_1\u001b[0m\u001b[1;33m.\u001b[0m\u001b[0mpay\u001b[0m\u001b[1;33m)\u001b[0m\u001b[1;33m\u001b[0m\u001b[1;33m\u001b[0m\u001b[0m\n\u001b[1;32m---> 22\u001b[1;33m \u001b[0memp_1\u001b[0m\u001b[1;33m.\u001b[0m\u001b[0mapply_raise\u001b[0m\u001b[1;33m(\u001b[0m\u001b[1;33m)\u001b[0m\u001b[1;33m\u001b[0m\u001b[1;33m\u001b[0m\u001b[0m\n\u001b[0m\u001b[0;32m     23\u001b[0m \u001b[0mprint\u001b[0m\u001b[1;33m(\u001b[0m\u001b[0memp_1\u001b[0m\u001b[1;33m.\u001b[0m\u001b[0mpay\u001b[0m\u001b[1;33m)\u001b[0m\u001b[1;33m\u001b[0m\u001b[1;33m\u001b[0m\u001b[0m\n",
      "\u001b[1;32m<ipython-input-163-f13fd89f61ca>\u001b[0m in \u001b[0;36mapply_raise\u001b[1;34m(self)\u001b[0m\n\u001b[0;32m     14\u001b[0m \u001b[1;33m\u001b[0m\u001b[0m\n\u001b[0;32m     15\u001b[0m     \u001b[1;32mdef\u001b[0m \u001b[0mapply_raise\u001b[0m\u001b[1;33m(\u001b[0m\u001b[0mself\u001b[0m\u001b[1;33m)\u001b[0m\u001b[1;33m:\u001b[0m\u001b[1;33m\u001b[0m\u001b[1;33m\u001b[0m\u001b[0m\n\u001b[1;32m---> 16\u001b[1;33m         \u001b[0mself\u001b[0m\u001b[1;33m.\u001b[0m\u001b[0mpay\u001b[0m \u001b[1;33m=\u001b[0m \u001b[0mint\u001b[0m\u001b[1;33m(\u001b[0m\u001b[0mself\u001b[0m\u001b[1;33m.\u001b[0m\u001b[0mpay\u001b[0m \u001b[1;33m*\u001b[0m \u001b[0mraise_amount\u001b[0m\u001b[1;33m)\u001b[0m\u001b[1;33m\u001b[0m\u001b[1;33m\u001b[0m\u001b[0m\n\u001b[0m\u001b[0;32m     17\u001b[0m \u001b[1;33m\u001b[0m\u001b[0m\n\u001b[0;32m     18\u001b[0m \u001b[0memp_1\u001b[0m \u001b[1;33m=\u001b[0m \u001b[0mEmployee\u001b[0m\u001b[1;33m(\u001b[0m\u001b[1;34m'akash'\u001b[0m\u001b[1;33m,\u001b[0m \u001b[1;34m'rawat'\u001b[0m\u001b[1;33m,\u001b[0m \u001b[1;36m50000\u001b[0m\u001b[1;33m)\u001b[0m\u001b[1;33m\u001b[0m\u001b[1;33m\u001b[0m\u001b[0m\n",
      "\u001b[1;31mNameError\u001b[0m: name 'raise_amount' is not defined"
     ]
    }
   ],
   "source": [
    "class Employee:\n",
    "    \n",
    "    # CLASS VARIABLE\n",
    "    raise_amount = 1.04\n",
    "\n",
    "    def __init__(self, first, last, pay):\n",
    "        self.first = first \n",
    "        self.last = last\n",
    "        self.pay = pay\n",
    "        self.email = first +'.'+ last + '@company.com'\n",
    "        \n",
    "    def fullname(self):\n",
    "        return '{} {}'.format(self.first, self.last)\n",
    "    \n",
    "    def apply_raise(self):\n",
    "        self.pay = int(self.pay * raise_amount)\n",
    "    \n",
    "emp_1 = Employee('akash', 'rawat', 50000)\n",
    "emp_2 = Employee('ankit', 'rawat', 60000)\n",
    "\n",
    "print(emp_1.pay)\n",
    "emp_1.apply_raise()\n",
    "print(emp_1.pay)"
   ]
  },
  {
   "cell_type": "markdown",
   "metadata": {},
   "source": [
    "Because we can call class variable through a class itself or through an instance of the class."
   ]
  },
  {
   "cell_type": "code",
   "execution_count": null,
   "metadata": {},
   "outputs": [],
   "source": [
    "class Employee:\n",
    "    \n",
    "    # CLASS VARIABLE\n",
    "    raise_amount = 1.04\n",
    "\n",
    "    def __init__(self, first, last, pay):\n",
    "        self.first = first \n",
    "        self.last = last\n",
    "        self.pay = pay\n",
    "        self.email = first +'.'+ last + '@company.com'\n",
    "        \n",
    "    def fullname(self):\n",
    "        return '{} {}'.format(self.first, self.last)\n",
    "    \n",
    "    def apply_raise(self):\n",
    "        #self.pay = int(self.pay * Employee.raise_amount) # any of the two commands can be used.\n",
    "        self.pay = int(self.pay * self.raise_amount)\n",
    "    \n",
    "emp_1 = Employee('akash', 'rawat', 50000)\n",
    "emp_2 = Employee('ankit', 'rawat', 60000)\n",
    "\n",
    "print(emp_1.pay)\n",
    "emp_1.apply_raise()\n",
    "print(emp_1.pay)"
   ]
  },
  {
   "cell_type": "code",
   "execution_count": null,
   "metadata": {},
   "outputs": [],
   "source": [
    "# we can access class variable through a class itself and through an instance of the class\n",
    "print(Employee.raise_amount)\n",
    "print(emp_1.raise_amount)\n",
    "print(emp_2.raise_amount)"
   ]
  },
  {
   "cell_type": "markdown",
   "metadata": {},
   "source": [
    "What happens here is that when we call an attribute then it checks it the instace has that attribute. If it doesn't then it checks if class or any class which it inherits contains that attribute."
   ]
  },
  {
   "cell_type": "code",
   "execution_count": null,
   "metadata": {},
   "outputs": [],
   "source": [
    "# printing the namespace of the instance\n",
    "print(emp_1.__dict__)"
   ]
  },
  {
   "cell_type": "markdown",
   "metadata": {},
   "source": [
    "It doesn't contain raise_amount otherwise it would have printed it here in the namespace."
   ]
  },
  {
   "cell_type": "code",
   "execution_count": null,
   "metadata": {},
   "outputs": [],
   "source": [
    "# printing the namespace of the instance\n",
    "print(Employee.__dict__)"
   ]
  },
  {
   "cell_type": "code",
   "execution_count": null,
   "metadata": {},
   "outputs": [],
   "source": [
    "Employee.raise_amount = 1.05\n",
    "\n",
    "print(Employee.raise_amount)\n",
    "print(emp_1.raise_amount)\n",
    "print(emp_2.raise_amount)"
   ]
  },
  {
   "cell_type": "markdown",
   "metadata": {},
   "source": [
    "It changes the raise amount for the class and for all of the instances."
   ]
  },
  {
   "cell_type": "markdown",
   "metadata": {},
   "source": [
    "## Set the raise amount using the instance instead of class"
   ]
  },
  {
   "cell_type": "code",
   "execution_count": null,
   "metadata": {},
   "outputs": [],
   "source": [
    "emp_1.raise_amount = 1.06\n",
    "\n",
    "print(Employee.raise_amount)\n",
    "print(emp_1.raise_amount)\n",
    "print(emp_2.raise_amount)"
   ]
  },
  {
   "cell_type": "code",
   "execution_count": null,
   "metadata": {},
   "outputs": [],
   "source": [
    "It changes the raise_amount only for emp_1."
   ]
  },
  {
   "cell_type": "code",
   "execution_count": null,
   "metadata": {},
   "outputs": [],
   "source": [
    "print(emp_1.__dict__)"
   ]
  },
  {
   "cell_type": "markdown",
   "metadata": {},
   "source": [
    "It has raise_amount in it's namespace now. That is why it returned 1.06 as it found it in it's namespace. It first\n",
    "looks for any attribute in it's namesace then moves to class namespace if not found. Class variable is still unchanged that is why for class and other instance it is still the previous value."
   ]
  },
  {
   "cell_type": "code",
   "execution_count": null,
   "metadata": {},
   "outputs": [],
   "source": [
    "class Employee:\n",
    "    \n",
    "    num_of_emps = 0\n",
    "    raise_amount = 1.04\n",
    "\n",
    "    def __init__(self, first, last, pay):\n",
    "        self.first = first \n",
    "        self.last = last\n",
    "        self.pay = pay\n",
    "        self.email = first +'.'+ last + '@company.com'\n",
    "        \n",
    "        Employee.num_of_emps += 1\n",
    "        \n",
    "    def fullname(self):\n",
    "        return '{} {}'.format(self.first, self.last)\n",
    "    \n",
    "    def apply_raise(self):\n",
    "        #self.pay = int(self.pay * Employee.raise_amount) # any of the two commands can be used.\n",
    "        self.pay = int(self.pay * self.raise_amount)\n",
    "\n",
    "print(Employee.num_of_emps)        \n",
    "        \n",
    "emp_1 = Employee('akash', 'rawat', 50000)\n",
    "emp_2 = Employee('ankit', 'rawat', 60000)\n",
    "\n",
    "print(Employee.num_of_emps)"
   ]
  },
  {
   "cell_type": "markdown",
   "metadata": {},
   "source": [
    "Because it is increased twice when we instantiated Employee."
   ]
  },
  {
   "cell_type": "markdown",
   "metadata": {},
   "source": [
    "### Similar to class and instance variable we also have Class & Static methods."
   ]
  },
  {
   "cell_type": "markdown",
   "metadata": {},
   "source": [
    "* Regular methods in class automatically takes the instance as first argument.\n",
    "* Methods automatically takes the Class as first argument are called as Class method. We have to add an decorator @classmethod to a regular method.\n",
    "* Instead of self, we'll use cls variable."
   ]
  },
  {
   "cell_type": "code",
   "execution_count": null,
   "metadata": {},
   "outputs": [],
   "source": [
    "class Employee:\n",
    "    \n",
    "    num_of_emps = 0\n",
    "    raise_amount = 1.04\n",
    "\n",
    "    def __init__(self, first, last, pay):\n",
    "        self.first = first \n",
    "        self.last = last\n",
    "        self.pay = pay\n",
    "        self.email = first +'.'+ last + '@company.com'\n",
    "        \n",
    "        Employee.num_of_emps += 1\n",
    "        \n",
    "    def fullname(self):\n",
    "        return '{} {}'.format(self.first, self.last)\n",
    "    \n",
    "    def apply_raise(self):        \n",
    "        self.pay = int(self.pay * self.raise_amount)\n",
    "\n",
    "    @classmethod\n",
    "    def set_raise_amt(cls, amount):\n",
    "        cls.raise_amount = amount\n",
    "    \n",
    "        \n",
    "emp_1 = Employee('akash', 'rawat', 50000)\n",
    "emp_2 = Employee('ankit', 'rawat', 60000)\n",
    "\n",
    "print(Employee.raise_amount)\n",
    "print(emp_1.raise_amount)\n",
    "print(emp_2.raise_amount)"
   ]
  },
  {
   "cell_type": "code",
   "execution_count": null,
   "metadata": {},
   "outputs": [],
   "source": [
    "Employee.set_raise_amt(1.05)\n",
    "\n",
    "print(Employee.raise_amount)\n",
    "print(emp_1.raise_amount)\n",
    "print(emp_2.raise_amount)"
   ]
  },
  {
   "cell_type": "markdown",
   "metadata": {},
   "source": [
    "Here it changed for every everyone because set_raise_amt is dealing with class. Hence the change for class and all of it's instances.\n",
    "We can run class methods from instances as well but that is not practice."
   ]
  },
  {
   "cell_type": "code",
   "execution_count": null,
   "metadata": {},
   "outputs": [],
   "source": [
    "emp_1.set_raise_amt(1.05)\n",
    "\n",
    "print(Employee.raise_amount)\n",
    "print(emp_1.raise_amount)\n",
    "print(emp_2.raise_amount)"
   ]
  },
  {
   "cell_type": "markdown",
   "metadata": {},
   "source": [
    "### Class methods as alternative constructors.\n",
    "\n",
    "It provides multiple ways to create objects."
   ]
  },
  {
   "cell_type": "code",
   "execution_count": null,
   "metadata": {},
   "outputs": [],
   "source": [
    "emp_str_1 = 'John-Doe-70000'\n",
    "emp_str_2 = 'Jack-Smith-60000'\n",
    "emp_str_3 = 'Jolly-Willie-50000'"
   ]
  },
  {
   "cell_type": "code",
   "execution_count": null,
   "metadata": {},
   "outputs": [],
   "source": [
    "# create new employee from above mentioned strings\n",
    "\n",
    "#one way\n",
    "first, last, pay = emp_str_1.split('-')\n",
    "new_emp_1 = Employee(first, last, pay)\n",
    "print(new_emp_1.email)\n",
    "print(new_emp_1.pay)"
   ]
  },
  {
   "cell_type": "markdown",
   "metadata": {},
   "source": [
    "We can also achieve the above operation by creating an alternative constructor which will create the instance out of the passed string."
   ]
  },
  {
   "cell_type": "code",
   "execution_count": null,
   "metadata": {},
   "outputs": [],
   "source": [
    "class Employee:\n",
    "    \n",
    "    num_of_emps = 0\n",
    "    raise_amount = 1.04\n",
    "\n",
    "    def __init__(self, first, last, pay):\n",
    "        self.first = first \n",
    "        self.last = last\n",
    "        self.pay = pay\n",
    "        self.email = first +'.'+ last + '@company.com'\n",
    "        \n",
    "        Employee.num_of_emps += 1\n",
    "        \n",
    "    def fullname(self):\n",
    "        return '{} {}'.format(self.first, self.last)\n",
    "    \n",
    "    def apply_raise(self):        \n",
    "        self.pay = int(self.pay * self.raise_amount)\n",
    "\n",
    "    @classmethod\n",
    "    def set_raise_amt(cls, amount):\n",
    "        cls.raise_amount = amount\n",
    "        \n",
    "    @classmethod\n",
    "    def from_string(cls, emp_str):\n",
    "        first, last, pay = emp_str.split('-')\n",
    "        return cls(first, last, pay)"
   ]
  },
  {
   "cell_type": "code",
   "execution_count": null,
   "metadata": {},
   "outputs": [],
   "source": [
    "new_emp_1 = Employee.from_string(emp_str_1)\n",
    "print(new_emp_1.email)\n",
    "print(new_emp_1.pay)"
   ]
  },
  {
   "cell_type": "markdown",
   "metadata": {},
   "source": [
    "#### Static Method\n",
    "\n",
    "* Regular methods passes self automatically\n",
    "* Class method passes cls automatically\n",
    "* Static methods don't pass anything automatically. They are the norml functions and they have some logical connection to our class\n",
    "* A method should be static method if you don't access the instance or class anywhere within the function."
   ]
  },
  {
   "cell_type": "code",
   "execution_count": null,
   "metadata": {},
   "outputs": [],
   "source": [
    "class Employee:\n",
    "    \n",
    "    num_of_emps = 0\n",
    "    raise_amount = 1.04\n",
    "\n",
    "    def __init__(self, first, last, pay):\n",
    "        self.first = first \n",
    "        self.last = last\n",
    "        self.pay = pay\n",
    "        self.email = first +'.'+ last + '@company.com'\n",
    "        \n",
    "        Employee.num_of_emps += 1\n",
    "        \n",
    "    def fullname(self):\n",
    "        return '{} {}'.format(self.first, self.last)\n",
    "    \n",
    "    def apply_raise(self):        \n",
    "        self.pay = int(self.pay * self.raise_amount)\n",
    "\n",
    "    @classmethod\n",
    "    def set_raise_amt(cls, amount):\n",
    "        cls.raise_amount = amount\n",
    "        \n",
    "    @classmethod\n",
    "    def from_string(cls, emp_str):\n",
    "        first, last, pay = emp_str.split('-')\n",
    "        return cls(first, last, pay)\n",
    "    \n",
    "    @staticmethod\n",
    "    def is_workday(day):\n",
    "        if day.weekday ==5 or day.weekday ==6:\n",
    "            return False\n",
    "        return True"
   ]
  },
  {
   "cell_type": "code",
   "execution_count": null,
   "metadata": {},
   "outputs": [],
   "source": [
    "import datetime\n",
    "my_date = datetime.date(2020,6,11)\n",
    "\n",
    "print(Employee.is_workday(my_date))"
   ]
  },
  {
   "cell_type": "markdown",
   "metadata": {},
   "source": [
    "## Inheritance"
   ]
  },
  {
   "cell_type": "markdown",
   "metadata": {},
   "source": [
    "* It allows us to inherit attribute and methods from parent class.\n",
    "* We can overwrite or add completely new functionality without affecting the parent class.\n",
    "* In this series, we can add developers and managers, as they will have all the things which is already available in Employee class."
   ]
  },
  {
   "cell_type": "code",
   "execution_count": null,
   "metadata": {},
   "outputs": [],
   "source": [
    "class Developer(Employee):\n",
    "    pass"
   ]
  },
  {
   "cell_type": "code",
   "execution_count": null,
   "metadata": {},
   "outputs": [],
   "source": [
    "dev_1 = Developer('Akash', 'Rawat', 50000)\n",
    "dev_2 = Developer('Ankit', 'Rawat', 60000)"
   ]
  },
  {
   "cell_type": "code",
   "execution_count": null,
   "metadata": {},
   "outputs": [],
   "source": [
    "print(dev_1.email)\n",
    "print(dev_2.email)"
   ]
  },
  {
   "cell_type": "markdown",
   "metadata": {},
   "source": [
    "* Even without writing any code in Developer class, we are able to create two new developers.\n",
    "* Python will look for the init method but it won't find it in our class as it is empty.\n",
    "* Then it'll walk to chain of inheritance until it finds that. This chain is called method resolution order. [Use help function to visualize this]\n",
    "* Now we can add the functionality only specific to a developer."
   ]
  },
  {
   "cell_type": "code",
   "execution_count": null,
   "metadata": {},
   "outputs": [],
   "source": [
    "print(help(Developer))"
   ]
  },
  {
   "cell_type": "code",
   "execution_count": null,
   "metadata": {},
   "outputs": [],
   "source": [
    "print(dev_1.pay)\n",
    "dev_1.apply_raise()\n",
    "print(dev_1.pay)"
   ]
  },
  {
   "cell_type": "code",
   "execution_count": null,
   "metadata": {},
   "outputs": [],
   "source": [
    "# changing the raise amount only for developers without changing anything in Employee class\n",
    "class Developer(Employee):\n",
    "    raise_amount = 1.10"
   ]
  },
  {
   "cell_type": "code",
   "execution_count": null,
   "metadata": {},
   "outputs": [],
   "source": [
    "dev_1 = Developer('Akash', 'Rawat', 50000)\n",
    "dev_2 = Developer('Ankit', 'Rawat', 60000)"
   ]
  },
  {
   "cell_type": "code",
   "execution_count": null,
   "metadata": {},
   "outputs": [],
   "source": [
    "print(dev_1.pay)\n",
    "dev_1.apply_raise()\n",
    "print(dev_1.pay)"
   ]
  },
  {
   "cell_type": "markdown",
   "metadata": {},
   "source": [
    "* Sometimes we want to intiate our subclass with more information than parent class can handle.\n",
    "* Suppose we want to an attribute that is not already available in our parent class. Hence to add an attribute in our subclass we've to give it's own init method.\n",
    "* In init method, we don't have to set all of the attributes. As the existing attributes are already being handled by parent class. We'll only set the newly introduced attribute.\n",
    "* Existing parent class attributes we've to pass using super() in our subclass."
   ]
  },
  {
   "cell_type": "code",
   "execution_count": null,
   "metadata": {},
   "outputs": [],
   "source": [
    "class Developer(Employee):\n",
    "    raise_amount = 1.10\n",
    "    \n",
    "    def __init__(self, first, last, pay, prog_lang):\n",
    "        super().__init__(first, last, pay)\n",
    "        self.prog_lang = prog_lang"
   ]
  },
  {
   "cell_type": "code",
   "execution_count": null,
   "metadata": {},
   "outputs": [],
   "source": [
    "dev_1 = Developer('Akash', 'Rawat', 50000, 'Python')\n",
    "\n",
    "print(dev_1.email)\n",
    "print(dev_1.prog_lang)"
   ]
  },
  {
   "cell_type": "code",
   "execution_count": null,
   "metadata": {},
   "outputs": [],
   "source": [
    "class Manager(Employee):\n",
    "    '''\n",
    "    Handles the employees this manager supervise\n",
    "    '''\n",
    "        \n",
    "    def __init__(self, first, last, pay, employees=None):\n",
    "        super().__init__(first, last, pay)\n",
    "        if employees is None:\n",
    "            self.employees = []\n",
    "        else:\n",
    "            self.employees = employees\n",
    "            \n",
    "    \n",
    "    def add_emp(self, emp):\n",
    "        if emp not in self.employees:\n",
    "            self.employees.append(emp)\n",
    "            \n",
    "    def remove_emp(self, emp):\n",
    "        if emp in self.employees:\n",
    "            self.employees.remove(emp)\n",
    "            \n",
    "    def print_emps(self):\n",
    "        for emp in self.employees:\n",
    "            print(\"--->\", emp.fullname())"
   ]
  },
  {
   "cell_type": "code",
   "execution_count": null,
   "metadata": {},
   "outputs": [],
   "source": [
    "dev_1 = Developer('Akash', 'Rawat', 50000, 'Python')\n",
    "dev_2 = Developer('Ankit', 'Rawat', 60000, 'Java')\n",
    "\n",
    "mgr_1 = Manager('Teja', 'Reddy', 90000, [dev_1])\n",
    "\n",
    "print(mgr_1.email)\n",
    "\n",
    "mgr_1.add_emp(dev_2)\n",
    "\n",
    "mgr_1.print_emps()"
   ]
  },
  {
   "cell_type": "code",
   "execution_count": null,
   "metadata": {},
   "outputs": [],
   "source": [
    "mgr_1.remove_emp(dev_1)\n",
    "\n",
    "mgr_1.print_emps()"
   ]
  },
  {
   "cell_type": "markdown",
   "metadata": {},
   "source": [
    "## isinstance | issubclass\n",
    "\n",
    "* isinstance: If an object is an instance of a class.\n",
    "* issubclass: If a Class is a Subclass of another class."
   ]
  },
  {
   "cell_type": "code",
   "execution_count": null,
   "metadata": {},
   "outputs": [],
   "source": [
    "print(isinstance(mgr_1, Manager))\n",
    "print(isinstance(mgr_1, Employee))\n",
    "print(isinstance(mgr_1, Developer))"
   ]
  },
  {
   "cell_type": "code",
   "execution_count": null,
   "metadata": {},
   "outputs": [],
   "source": [
    "print(issubclass(Manager, Employee))\n",
    "print(issubclass(Developer, Manager))\n",
    "print(issubclass(Developer, Employee))"
   ]
  },
  {
   "cell_type": "markdown",
   "metadata": {},
   "source": [
    "# Special(Magic/Dunder) Methods\n",
    "\n",
    "* Methods which we can use inside our classes, also called Magic methods.\n",
    "* It allows us to emulate some built-in behavior in python ad it's also how we implement operator overloading.\n",
    "* These special methods are always surrounded by double underscore or also called as dunder.\n",
    "* we should have repr and str special methods in our class better representation and for debugging purpose."
   ]
  },
  {
   "cell_type": "code",
   "execution_count": null,
   "metadata": {},
   "outputs": [],
   "source": [
    "class Employee:\n",
    "    \n",
    "    num_of_emps = 0\n",
    "    raise_amount = 1.04\n",
    "\n",
    "    def __init__(self, first, last, pay):\n",
    "        self.first = first \n",
    "        self.last = last\n",
    "        self.pay = pay\n",
    "        self.email = first +'.'+ last + '@company.com'\n",
    "        \n",
    "        Employee.num_of_emps += 1\n",
    "        \n",
    "    def fullname(self):\n",
    "        return '{} {}'.format(self.first, self.last)\n",
    "    \n",
    "    def apply_raise(self):        \n",
    "        self.pay = int(self.pay * self.raise_amount)"
   ]
  },
  {
   "cell_type": "code",
   "execution_count": null,
   "metadata": {},
   "outputs": [],
   "source": [
    "emp_1 = Employee('Akash', 'Rawat', 50000)\n",
    "emp_2 = Employee('Ankit', 'Rawat', 60000)\n",
    "\n",
    "print(emp_1)"
   ]
  },
  {
   "cell_type": "code",
   "execution_count": null,
   "metadata": {},
   "outputs": [],
   "source": [
    "class Employee:\n",
    "    \n",
    "    num_of_emps = 0\n",
    "    raise_amount = 1.04\n",
    "\n",
    "    def __init__(self, first, last, pay):\n",
    "        self.first = first \n",
    "        self.last = last\n",
    "        self.pay = pay\n",
    "        self.email = first +'.'+ last + '@company.com'\n",
    "        \n",
    "        Employee.num_of_emps += 1\n",
    "        \n",
    "    def fullname(self):\n",
    "        return '{} {}'.format(self.first, self.last)\n",
    "    \n",
    "    def apply_raise(self):        \n",
    "        self.pay = int(self.pay * self.raise_amount)\n",
    "\n",
    "    def __repr__(self):\n",
    "            return \"Employee('{}', '{}', '{}')\".format(self.first, self.last, self.pay)"
   ]
  },
  {
   "cell_type": "code",
   "execution_count": 164,
   "metadata": {},
   "outputs": [
    {
     "name": "stdout",
     "output_type": "stream",
     "text": [
      "<__main__.Employee object at 0x0000018002E74C08>\n"
     ]
    }
   ],
   "source": [
    "emp_1 = Employee('Akash', 'Rawat', 50000)\n",
    "emp_2 = Employee('Ankit', 'Rawat', 60000)\n",
    "\n",
    "print(emp_1)"
   ]
  },
  {
   "cell_type": "markdown",
   "metadata": {},
   "source": [
    "* We are getting better representation of emp_1 object after applying repr method. We can copy the output and use it while creating another objects.\n",
    "\n",
    "\n",
    "* str is used for more readable output to end user."
   ]
  },
  {
   "cell_type": "code",
   "execution_count": 165,
   "metadata": {},
   "outputs": [],
   "source": [
    "class Employee:\n",
    "    \n",
    "    num_of_emps = 0\n",
    "    raise_amount = 1.04\n",
    "\n",
    "    def __init__(self, first, last, pay):\n",
    "        self.first = first \n",
    "        self.last = last\n",
    "        self.pay = pay\n",
    "        self.email = first +'.'+ last + '@company.com'\n",
    "        \n",
    "        Employee.num_of_emps += 1\n",
    "        \n",
    "    def fullname(self):\n",
    "        return '{} {}'.format(self.first, self.last)\n",
    "    \n",
    "    def apply_raise(self):        \n",
    "        self.pay = int(self.pay * self.raise_amount)\n",
    "\n",
    "    def __repr__(self):\n",
    "        return \"Employee('{}', '{}', '{}')\".format(self.first, self.last, self.pay)\n",
    "    \n",
    "    def __str__(self):\n",
    "        return '{} - {}'.format(self.fullname(), self.email)"
   ]
  },
  {
   "cell_type": "code",
   "execution_count": 166,
   "metadata": {},
   "outputs": [
    {
     "name": "stdout",
     "output_type": "stream",
     "text": [
      "Akash Rawat - Akash.Rawat@company.com\n"
     ]
    }
   ],
   "source": [
    "emp_1 = Employee('Akash', 'Rawat', 50000)\n",
    "emp_2 = Employee('Ankit', 'Rawat', 60000)\n",
    "\n",
    "print(emp_1)"
   ]
  },
  {
   "cell_type": "code",
   "execution_count": 167,
   "metadata": {},
   "outputs": [
    {
     "name": "stdout",
     "output_type": "stream",
     "text": [
      "Employee('Akash', 'Rawat', '50000')\n",
      "Akash Rawat - Akash.Rawat@company.com\n"
     ]
    }
   ],
   "source": [
    "print(repr(emp_1))\n",
    "print(str(emp_1))"
   ]
  },
  {
   "cell_type": "code",
   "execution_count": 168,
   "metadata": {},
   "outputs": [
    {
     "name": "stdout",
     "output_type": "stream",
     "text": [
      "Employee('Akash', 'Rawat', '50000')\n",
      "Akash Rawat - Akash.Rawat@company.com\n"
     ]
    }
   ],
   "source": [
    "print(emp_1.__repr__())\n",
    "print(emp_1.__str__())"
   ]
  },
  {
   "cell_type": "code",
   "execution_count": 169,
   "metadata": {},
   "outputs": [
    {
     "name": "stdout",
     "output_type": "stream",
     "text": [
      "3\n"
     ]
    }
   ],
   "source": [
    "print(int.__add__(1,2))"
   ]
  },
  {
   "cell_type": "code",
   "execution_count": 170,
   "metadata": {},
   "outputs": [
    {
     "name": "stdout",
     "output_type": "stream",
     "text": [
      "ab\n"
     ]
    }
   ],
   "source": [
    "print(str.__add__('a','b'))"
   ]
  },
  {
   "cell_type": "code",
   "execution_count": 171,
   "metadata": {},
   "outputs": [],
   "source": [
    "class Employee:\n",
    "    \n",
    "    num_of_emps = 0\n",
    "    raise_amount = 1.04\n",
    "\n",
    "    def __init__(self, first, last, pay):\n",
    "        self.first = first \n",
    "        self.last = last\n",
    "        self.pay = pay\n",
    "        self.email = first +'.'+ last + '@company.com'\n",
    "        \n",
    "        Employee.num_of_emps += 1\n",
    "        \n",
    "    def fullname(self):\n",
    "        return '{} {}'.format(self.first, self.last)\n",
    "    \n",
    "    def apply_raise(self):        \n",
    "        self.pay = int(self.pay * self.raise_amount)\n",
    "\n",
    "    def __repr__(self):\n",
    "        return \"Employee('{}', '{}', '{}')\".format(self.first, self.last, self.pay)\n",
    "    \n",
    "    def __str__(self):\n",
    "        return '{} - {}'.format(self.fullname(), self.email)\n",
    "    \n",
    "    def __add__(self, other):\n",
    "        return self.pay + other.pay"
   ]
  },
  {
   "cell_type": "code",
   "execution_count": 172,
   "metadata": {},
   "outputs": [
    {
     "name": "stdout",
     "output_type": "stream",
     "text": [
      "110000\n"
     ]
    }
   ],
   "source": [
    "emp_1 = Employee('Akash', 'Rawat', 50000)\n",
    "emp_2 = Employee('Ankit', 'Rawat', 60000)\n",
    "\n",
    "print(emp_1+emp_2)"
   ]
  },
  {
   "cell_type": "code",
   "execution_count": 173,
   "metadata": {},
   "outputs": [
    {
     "name": "stdout",
     "output_type": "stream",
     "text": [
      "4\n",
      "4\n"
     ]
    }
   ],
   "source": [
    "print(len('test'))\n",
    "print('test'.__len__())"
   ]
  },
  {
   "cell_type": "code",
   "execution_count": 174,
   "metadata": {},
   "outputs": [],
   "source": [
    "class Employee:\n",
    "    \n",
    "    num_of_emps = 0\n",
    "    raise_amount = 1.04\n",
    "\n",
    "    def __init__(self, first, last, pay):\n",
    "        self.first = first \n",
    "        self.last = last\n",
    "        self.pay = pay\n",
    "        self.email = first +'.'+ last + '@company.com'\n",
    "        \n",
    "        Employee.num_of_emps += 1\n",
    "        \n",
    "    def fullname(self):\n",
    "        return '{} {}'.format(self.first, self.last)\n",
    "    \n",
    "    def apply_raise(self):        \n",
    "        self.pay = int(self.pay * self.raise_amount)\n",
    "\n",
    "    def __repr__(self):\n",
    "        return \"Employee('{}', '{}', '{}')\".format(self.first, self.last, self.pay)\n",
    "    \n",
    "    def __str__(self):\n",
    "        return '{} - {}'.format(self.fullname(), self.email)\n",
    "    \n",
    "    def __add__(self, other):\n",
    "        return self.pay + other.pay\n",
    "    \n",
    "    def __len__(self):\n",
    "        return len(self.fullname())"
   ]
  },
  {
   "cell_type": "code",
   "execution_count": 175,
   "metadata": {},
   "outputs": [
    {
     "name": "stdout",
     "output_type": "stream",
     "text": [
      "11\n"
     ]
    }
   ],
   "source": [
    "emp_1 = Employee('Akash', 'Rawat', 50000)\n",
    "emp_2 = Employee('Ankit', 'Rawat', 60000)\n",
    "\n",
    "print(len(emp_1))"
   ]
  },
  {
   "cell_type": "markdown",
   "metadata": {},
   "source": [
    "# Property Decorators - Getters, Setters and Deleters\n",
    "\n",
    "* It allows our class attributes to have Getters, Setters and Deleters functionality."
   ]
  },
  {
   "cell_type": "code",
   "execution_count": 176,
   "metadata": {},
   "outputs": [],
   "source": [
    "class Employee:\n",
    "    \n",
    "    def __init__(self, first, last):\n",
    "        self.first = first \n",
    "        self.last = last\n",
    "        self.email = first +'.'+ last + '@company.com'\n",
    "        \n",
    "    def fullname(self):\n",
    "        return '{} {}'.format(self.first, self.last)"
   ]
  },
  {
   "cell_type": "code",
   "execution_count": 177,
   "metadata": {},
   "outputs": [
    {
     "name": "stdout",
     "output_type": "stream",
     "text": [
      "Akash\n",
      "Akash.Rawat@company.com\n",
      "Akash Rawat\n"
     ]
    }
   ],
   "source": [
    "emp_1 = Employee('Akash', 'Rawat')\n",
    "\n",
    "print(emp_1.first)\n",
    "print(emp_1.email)\n",
    "print(emp_1.fullname())"
   ]
  },
  {
   "cell_type": "code",
   "execution_count": 178,
   "metadata": {},
   "outputs": [
    {
     "name": "stdout",
     "output_type": "stream",
     "text": [
      "Ankit\n",
      "Akash.Rawat@company.com\n",
      "Ankit Rawat\n"
     ]
    }
   ],
   "source": [
    "emp_1.first = 'Ankit'\n",
    "\n",
    "print(emp_1.first)\n",
    "print(emp_1.email)\n",
    "print(emp_1.fullname())"
   ]
  },
  {
   "cell_type": "markdown",
   "metadata": {},
   "source": [
    "* The first name and full name changed here but the email is still the old one.\n",
    "* Full name always grabs the current first name and last name.\n",
    "* Though we can create a seperate email method but that will break the code for everyone who is using it. They have to again instantiate the class.\n",
    "* Decorators allows us to create methods which can be accessed as attribute."
   ]
  },
  {
   "cell_type": "code",
   "execution_count": 179,
   "metadata": {},
   "outputs": [],
   "source": [
    "class Employee:\n",
    "    \n",
    "    def __init__(self, first, last):\n",
    "        self.first = first \n",
    "        self.last = last\n",
    "        \n",
    "    def email(self):\n",
    "        return '{}.{}@company.com'.format(self.first, self.last)    \n",
    "    \n",
    "    def fullname(self):\n",
    "        return '{} {}'.format(self.first, self.last)"
   ]
  },
  {
   "cell_type": "code",
   "execution_count": 180,
   "metadata": {},
   "outputs": [
    {
     "name": "stdout",
     "output_type": "stream",
     "text": [
      "Ankit\n",
      "Ankit.Rawat@company.com\n",
      "Ankit Rawat\n"
     ]
    }
   ],
   "source": [
    "emp_1 = Employee('Akash', 'Rawat')\n",
    "emp_1.first = 'Ankit'\n",
    "print(emp_1.first)\n",
    "print(emp_1.email())\n",
    "print(emp_1.fullname())"
   ]
  },
  {
   "cell_type": "code",
   "execution_count": 181,
   "metadata": {},
   "outputs": [],
   "source": [
    "class Employee:\n",
    "    \n",
    "    def __init__(self, first, last):\n",
    "        self.first = first \n",
    "        self.last = last\n",
    "    \n",
    "    @property    \n",
    "    def email(self):\n",
    "        return '{}.{}@company.com'.format(self.first, self.last)    \n",
    "    \n",
    "    def fullname(self):\n",
    "        return '{} {}'.format(self.first, self.last)"
   ]
  },
  {
   "cell_type": "code",
   "execution_count": 182,
   "metadata": {},
   "outputs": [
    {
     "name": "stdout",
     "output_type": "stream",
     "text": [
      "Ankit\n",
      "Ankit.Rawat@company.com\n",
      "Ankit Rawat\n"
     ]
    }
   ],
   "source": [
    "emp_1 = Employee('Akash', 'Rawat')\n",
    "emp_1.first = 'Ankit'\n",
    "print(emp_1.first)\n",
    "print(emp_1.email)\n",
    "print(emp_1.fullname())"
   ]
  },
  {
   "cell_type": "code",
   "execution_count": 183,
   "metadata": {},
   "outputs": [
    {
     "name": "stdout",
     "output_type": "stream",
     "text": [
      "Akash\n",
      "Akash.Rawat@company.com\n",
      "Ankit Rawat\n"
     ]
    }
   ],
   "source": [
    "emp_1 = Employee('Akash', 'Rawat')\n",
    "emp_1.fullname = 'Ankit Rawat'\n",
    "print(emp_1.first)\n",
    "print(emp_1.email)\n",
    "print(emp_1.fullname)"
   ]
  },
  {
   "cell_type": "code",
   "execution_count": 184,
   "metadata": {},
   "outputs": [],
   "source": [
    "# to solve this probem we'll use setter with that if we provide full name it'll create and update the first and last name\n",
    "\n",
    "class Employee:\n",
    "    \n",
    "    def __init__(self, first, last):\n",
    "        self.first = first \n",
    "        self.last = last\n",
    "    \n",
    "    @property    \n",
    "    def email(self):\n",
    "        return '{}.{}@company.com'.format(self.first, self.last)    \n",
    "    \n",
    "    @property\n",
    "    def fullname(self):\n",
    "        return '{} {}'.format(self.first, self.last)\n",
    "    \n",
    "    @fullname.setter\n",
    "    def fullname(self, name):\n",
    "        first, last = name.split(' ')\n",
    "        self.first = first\n",
    "        self.last = last\n",
    "        \n",
    "    @fullname.deleter\n",
    "    def fullname(self):\n",
    "        print('Delete Name!')\n",
    "        self.first = None\n",
    "        self.last = None"
   ]
  },
  {
   "cell_type": "code",
   "execution_count": 185,
   "metadata": {},
   "outputs": [
    {
     "name": "stdout",
     "output_type": "stream",
     "text": [
      "Ankit\n",
      "Ankit.Rawat@company.com\n",
      "Ankit Rawat\n"
     ]
    }
   ],
   "source": [
    "emp_1 = Employee('Akash', 'Rawat')\n",
    "emp_1.fullname = 'Ankit Rawat'\n",
    "print(emp_1.first)\n",
    "print(emp_1.email)\n",
    "print(emp_1.fullname)"
   ]
  },
  {
   "cell_type": "code",
   "execution_count": 186,
   "metadata": {},
   "outputs": [
    {
     "name": "stdout",
     "output_type": "stream",
     "text": [
      "Delete Name!\n"
     ]
    }
   ],
   "source": [
    "del emp_1.fullname"
   ]
  },
  {
   "cell_type": "code",
   "execution_count": 187,
   "metadata": {},
   "outputs": [
    {
     "name": "stdout",
     "output_type": "stream",
     "text": [
      "None\n",
      "None.None@company.com\n",
      "None None\n"
     ]
    }
   ],
   "source": [
    "print(emp_1.first)\n",
    "print(emp_1.email)\n",
    "print(emp_1.fullname)"
   ]
  },
  {
   "cell_type": "markdown",
   "metadata": {},
   "source": [
    "It deleted the full name, first and last name also have been set to None."
   ]
  },
  {
   "cell_type": "code",
   "execution_count": null,
   "metadata": {},
   "outputs": [],
   "source": []
  }
 ],
 "metadata": {
  "kernelspec": {
   "display_name": "Python 3",
   "language": "python",
   "name": "python3"
  },
  "language_info": {
   "codemirror_mode": {
    "name": "ipython",
    "version": 3
   },
   "file_extension": ".py",
   "mimetype": "text/x-python",
   "name": "python",
   "nbconvert_exporter": "python",
   "pygments_lexer": "ipython3",
   "version": "3.7.6"
  }
 },
 "nbformat": 4,
 "nbformat_minor": 4
}
